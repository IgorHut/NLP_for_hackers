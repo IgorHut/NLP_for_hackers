{
 "cells": [
  {
   "cell_type": "markdown",
   "metadata": {},
   "source": [
    "## Practical ML Example"
   ]
  },
  {
   "cell_type": "code",
   "execution_count": 5,
   "metadata": {},
   "outputs": [
    {
     "name": "stdout",
     "output_type": "stream",
     "text": [
      "['Abagael', 'Abagail', 'Abbe', 'Abbey', 'Abbi', 'Abbie', 'Abby', 'Abigael', 'Abigail', 'Abigale'] ...\n",
      "#GirlNames = 5001\n",
      "['Aamir', 'Aaron', 'Abbey', 'Abbie', 'Abbot', 'Abbott', 'Abby', 'Abdel', 'Abdul', 'Abdulkarim'] ...\n",
      "#BoyNames = 2943\n",
      "#GirlNamesEndingInA = 1773\n",
      "MostCommonEndingLettersForGirls = Counter({'a': 1773, 'e': 1432, 'y': 461, 'n': 386, 'i': 317, 'l': 179, 'h': 105, 's': 93, 't': 68, 'r': 47, 'd': 39, 'o': 33, 'm': 13, 'g': 10, 'x': 10, 'b': 9, 'u': 6, 'w': 5, 'z': 4, 'k': 3, 'v': 2, 'p': 2, 'f': 2, ' ': 1, 'j': 1})\n",
      "MostCommonEndingLettersForBoys =  Counter({'n': 478, 'e': 468, 'y': 332, 's': 230, 'd': 228, 'r': 190, 'l': 187, 'o': 165, 't': 164, 'h': 93, 'm': 70, 'k': 69, 'i': 50, 'g': 32, 'a': 29, 'f': 25, 'c': 25, 'b': 21, 'p': 18, 'w': 17, 'v': 16, 'u': 12, 'z': 11, 'x': 10, 'j': 3})\n"
     ]
    }
   ],
   "source": [
    "import collections\n",
    "from nltk.corpus import names\n",
    "\n",
    "# Check the girl names\n",
    "girl_names = names.words('female.txt')\n",
    "print(girl_names[:10], '...')\n",
    "print('#GirlNames =', len(girl_names))\n",
    "\n",
    "# Chek the boy names\n",
    "boy_names = names.words('male.txt')\n",
    "print(boy_names[:10], '...')\n",
    "print('#BoyNames =', len(boy_names))\n",
    "\n",
    "# Let's see how many girl names end in 'a'\n",
    "girl_names_ending_in_a = [name for name in girl_names if name.endswith('a')]\n",
    "print('#GirlNamesEndingInA =', len(girl_names_ending_in_a))\n",
    "\n",
    "# Let's see what are the most common letters girl names end with\n",
    "girl_ending_letters = collections.Counter([name[-1] for name in girl_names])\n",
    "print('MostCommonEndingLettersForGirls =', girl_ending_letters)\n",
    "\n",
    "# Same as above for boys\n",
    "boy_ending_letters = collections.Counter([name[-1] for name in boy_names])\n",
    "print('MostCommonEndingLettersForBoys = ', boy_ending_letters)\n"
   ]
  },
  {
   "cell_type": "markdown",
   "metadata": {},
   "source": [
    "### The first name classifier"
   ]
  }
 ],
 "metadata": {
  "kernelspec": {
   "display_name": "Python 3",
   "language": "python",
   "name": "python3"
  },
  "language_info": {
   "codemirror_mode": {
    "name": "ipython",
    "version": 3
   },
   "file_extension": ".py",
   "mimetype": "text/x-python",
   "name": "python",
   "nbconvert_exporter": "python",
   "pygments_lexer": "ipython3",
   "version": "3.7.3"
  }
 },
 "nbformat": 4,
 "nbformat_minor": 2
}
